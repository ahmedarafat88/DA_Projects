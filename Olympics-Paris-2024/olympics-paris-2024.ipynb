{
 "cells": [
  {
   "cell_type": "markdown",
   "id": "f18d7f14",
   "metadata": {
    "execution": {
     "iopub.execute_input": "2024-08-18T14:29:34.280539Z",
     "iopub.status.busy": "2024-08-18T14:29:34.279462Z",
     "iopub.status.idle": "2024-08-18T14:29:35.151244Z",
     "shell.execute_reply": "2024-08-18T14:29:35.150062Z",
     "shell.execute_reply.started": "2024-08-18T14:29:34.280492Z"
    },
    "papermill": {
     "duration": 0.010114,
     "end_time": "2024-08-18T15:59:47.351527",
     "exception": false,
     "start_time": "2024-08-18T15:59:47.341413",
     "status": "completed"
    },
    "tags": []
   },
   "source": [
    "# <p><center style=\"font-family:newtimeroman;font-size:180%;\">Olympic-Paris Analysis </center></p>\n",
    "\n",
    "### Table of contents :\n",
    "\n",
    "* [Import Libraries 🕵️‍♂️🕵️‍♂️](#1)\n",
    "* [Read Data 🕵️‍♂️🕵️‍♂️](#2)\n",
    "* [Explore Data 🕵️‍♂️🕵️‍♂️](#3) \n",
    "* [EDA 🕵️‍♂️🕵️‍♂️](#4)\n"
   ]
  },
  {
   "cell_type": "markdown",
   "id": "87a5215d",
   "metadata": {
    "papermill": {
     "duration": 0.009205,
     "end_time": "2024-08-18T15:59:47.370608",
     "exception": false,
     "start_time": "2024-08-18T15:59:47.361403",
     "status": "completed"
    },
    "tags": []
   },
   "source": [
    "**<a id=\"1\"></a>\n",
    "# <p style=\"background-image: url(https://i.postimg.cc/K87ByXmr/stage5.jpg);font-family:camtasia;font-size:120%;color:white;text-align:center;border-radius:15px 50px; padding:7px\">Import Libraries 🕵️‍♂️🕵️‍♂️</p>\n",
    "<a class=\"btn\" href=\"#home\">Tabel of Contents</a>"
   ]
  },
  {
   "cell_type": "code",
   "execution_count": 1,
   "id": "f059b5f4",
   "metadata": {
    "execution": {
     "iopub.execute_input": "2024-08-18T15:59:47.391433Z",
     "iopub.status.busy": "2024-08-18T15:59:47.390923Z",
     "iopub.status.idle": "2024-08-18T15:59:49.684645Z",
     "shell.execute_reply": "2024-08-18T15:59:49.683347Z"
    },
    "papermill": {
     "duration": 2.308006,
     "end_time": "2024-08-18T15:59:49.687859",
     "exception": false,
     "start_time": "2024-08-18T15:59:47.379853",
     "status": "completed"
    },
    "tags": []
   },
   "outputs": [],
   "source": [
    "import pandas as pd \n",
    "import numpy as np\n",
    "import matplotlib.pyplot as plt\n",
    "import seaborn as sns\n",
    "sns.set()"
   ]
  },
  {
   "cell_type": "markdown",
   "id": "f1e6b20a",
   "metadata": {
    "papermill": {
     "duration": 0.009059,
     "end_time": "2024-08-18T15:59:49.706450",
     "exception": false,
     "start_time": "2024-08-18T15:59:49.697391",
     "status": "completed"
    },
    "tags": []
   },
   "source": [
    "**<a id=\"2\"></a>\n",
    "# <p style=\"background-image: url(https://i.postimg.cc/K87ByXmr/stage5.jpg);font-family:camtasia;font-size:120%;color:white;text-align:center;border-radius:15px 50px; padding:7px\">Read Data 🕵️‍♂️🕵️‍♂️</p>\n",
    "<a class=\"btn\" href=\"#home\">Tabel of Contents</a>"
   ]
  },
  {
   "cell_type": "code",
   "execution_count": 2,
   "id": "0e6f02d6",
   "metadata": {
    "execution": {
     "iopub.execute_input": "2024-08-18T15:59:49.727047Z",
     "iopub.status.busy": "2024-08-18T15:59:49.726498Z",
     "iopub.status.idle": "2024-08-18T15:59:49.769653Z",
     "shell.execute_reply": "2024-08-18T15:59:49.768377Z"
    },
    "papermill": {
     "duration": 0.056587,
     "end_time": "2024-08-18T15:59:49.772266",
     "exception": false,
     "start_time": "2024-08-18T15:59:49.715679",
     "status": "completed"
    },
    "tags": []
   },
   "outputs": [
    {
     "data": {
      "text/html": [
       "<div>\n",
       "<style scoped>\n",
       "    .dataframe tbody tr th:only-of-type {\n",
       "        vertical-align: middle;\n",
       "    }\n",
       "\n",
       "    .dataframe tbody tr th {\n",
       "        vertical-align: top;\n",
       "    }\n",
       "\n",
       "    .dataframe thead th {\n",
       "        text-align: right;\n",
       "    }\n",
       "</style>\n",
       "<table border=\"1\" class=\"dataframe\">\n",
       "  <thead>\n",
       "    <tr style=\"text-align: right;\">\n",
       "      <th></th>\n",
       "      <th>Rank</th>\n",
       "      <th>Country</th>\n",
       "      <th>Country Code</th>\n",
       "      <th>Gold</th>\n",
       "      <th>Silver</th>\n",
       "      <th>Bronze</th>\n",
       "      <th>Total</th>\n",
       "    </tr>\n",
       "  </thead>\n",
       "  <tbody>\n",
       "    <tr>\n",
       "      <th>0</th>\n",
       "      <td>1</td>\n",
       "      <td>United States</td>\n",
       "      <td>US</td>\n",
       "      <td>40</td>\n",
       "      <td>44</td>\n",
       "      <td>42</td>\n",
       "      <td>126</td>\n",
       "    </tr>\n",
       "    <tr>\n",
       "      <th>1</th>\n",
       "      <td>2</td>\n",
       "      <td>China</td>\n",
       "      <td>CHN</td>\n",
       "      <td>40</td>\n",
       "      <td>27</td>\n",
       "      <td>24</td>\n",
       "      <td>91</td>\n",
       "    </tr>\n",
       "    <tr>\n",
       "      <th>2</th>\n",
       "      <td>3</td>\n",
       "      <td>Japan</td>\n",
       "      <td>JPN</td>\n",
       "      <td>20</td>\n",
       "      <td>12</td>\n",
       "      <td>13</td>\n",
       "      <td>45</td>\n",
       "    </tr>\n",
       "    <tr>\n",
       "      <th>3</th>\n",
       "      <td>4</td>\n",
       "      <td>Australia</td>\n",
       "      <td>AUS</td>\n",
       "      <td>18</td>\n",
       "      <td>19</td>\n",
       "      <td>16</td>\n",
       "      <td>53</td>\n",
       "    </tr>\n",
       "    <tr>\n",
       "      <th>4</th>\n",
       "      <td>5</td>\n",
       "      <td>France</td>\n",
       "      <td>FRA</td>\n",
       "      <td>16</td>\n",
       "      <td>26</td>\n",
       "      <td>22</td>\n",
       "      <td>64</td>\n",
       "    </tr>\n",
       "  </tbody>\n",
       "</table>\n",
       "</div>"
      ],
      "text/plain": [
       "   Rank        Country Country Code  Gold  Silver  Bronze  Total\n",
       "0     1  United States           US    40      44      42    126\n",
       "1     2          China          CHN    40      27      24     91\n",
       "2     3          Japan          JPN    20      12      13     45\n",
       "3     4      Australia          AUS    18      19      16     53\n",
       "4     5         France          FRA    16      26      22     64"
      ]
     },
     "execution_count": 2,
     "metadata": {},
     "output_type": "execute_result"
    }
   ],
   "source": [
    "data= pd.read_csv('/kaggle/input/paris-2024-olympics-medals/olympics2024.csv')\n",
    "data.head()"
   ]
  },
  {
   "cell_type": "code",
   "execution_count": 3,
   "id": "9cb63c3b",
   "metadata": {
    "execution": {
     "iopub.execute_input": "2024-08-18T15:59:49.793534Z",
     "iopub.status.busy": "2024-08-18T15:59:49.793115Z",
     "iopub.status.idle": "2024-08-18T15:59:49.800225Z",
     "shell.execute_reply": "2024-08-18T15:59:49.799125Z"
    },
    "papermill": {
     "duration": 0.020453,
     "end_time": "2024-08-18T15:59:49.802514",
     "exception": false,
     "start_time": "2024-08-18T15:59:49.782061",
     "status": "completed"
    },
    "tags": []
   },
   "outputs": [
    {
     "data": {
      "text/plain": [
       "(91, 7)"
      ]
     },
     "execution_count": 3,
     "metadata": {},
     "output_type": "execute_result"
    }
   ],
   "source": [
    "data.shape"
   ]
  },
  {
   "cell_type": "markdown",
   "id": "c066a5c1",
   "metadata": {
    "papermill": {
     "duration": 0.009489,
     "end_time": "2024-08-18T15:59:49.821650",
     "exception": false,
     "start_time": "2024-08-18T15:59:49.812161",
     "status": "completed"
    },
    "tags": []
   },
   "source": [
    "**<a id=\"3\"></a>\n",
    "# <p style=\"background-image: url(https://i.postimg.cc/K87ByXmr/stage5.jpg);font-family:camtasia;font-size:120%;color:white;text-align:center;border-radius:15px 50px; padding:7px\">Explore Data 🕵️‍♂️🕵️‍♂️</p>\n",
    "<a class=\"btn\" href=\"#home\">Tabel of Contents</a>"
   ]
  },
  {
   "cell_type": "code",
   "execution_count": 4,
   "id": "9b56656f",
   "metadata": {
    "execution": {
     "iopub.execute_input": "2024-08-18T15:59:49.842671Z",
     "iopub.status.busy": "2024-08-18T15:59:49.842247Z",
     "iopub.status.idle": "2024-08-18T15:59:49.868616Z",
     "shell.execute_reply": "2024-08-18T15:59:49.867302Z"
    },
    "papermill": {
     "duration": 0.040003,
     "end_time": "2024-08-18T15:59:49.871289",
     "exception": false,
     "start_time": "2024-08-18T15:59:49.831286",
     "status": "completed"
    },
    "tags": []
   },
   "outputs": [
    {
     "name": "stdout",
     "output_type": "stream",
     "text": [
      "<class 'pandas.core.frame.DataFrame'>\n",
      "RangeIndex: 91 entries, 0 to 90\n",
      "Data columns (total 7 columns):\n",
      " #   Column        Non-Null Count  Dtype \n",
      "---  ------        --------------  ----- \n",
      " 0   Rank          91 non-null     int64 \n",
      " 1   Country       91 non-null     object\n",
      " 2   Country Code  91 non-null     object\n",
      " 3   Gold          91 non-null     int64 \n",
      " 4   Silver        91 non-null     int64 \n",
      " 5   Bronze        91 non-null     int64 \n",
      " 6   Total         91 non-null     int64 \n",
      "dtypes: int64(5), object(2)\n",
      "memory usage: 5.1+ KB\n"
     ]
    }
   ],
   "source": [
    "data.info()"
   ]
  },
  {
   "cell_type": "code",
   "execution_count": 5,
   "id": "9a2fe59b",
   "metadata": {
    "execution": {
     "iopub.execute_input": "2024-08-18T15:59:49.893036Z",
     "iopub.status.busy": "2024-08-18T15:59:49.892626Z",
     "iopub.status.idle": "2024-08-18T15:59:49.901284Z",
     "shell.execute_reply": "2024-08-18T15:59:49.900235Z"
    },
    "papermill": {
     "duration": 0.022564,
     "end_time": "2024-08-18T15:59:49.903892",
     "exception": false,
     "start_time": "2024-08-18T15:59:49.881328",
     "status": "completed"
    },
    "tags": []
   },
   "outputs": [
    {
     "data": {
      "text/plain": [
       "Rank            0\n",
       "Country         0\n",
       "Country Code    0\n",
       "Gold            0\n",
       "Silver          0\n",
       "Bronze          0\n",
       "Total           0\n",
       "dtype: int64"
      ]
     },
     "execution_count": 5,
     "metadata": {},
     "output_type": "execute_result"
    }
   ],
   "source": [
    "data.isna().sum()"
   ]
  },
  {
   "cell_type": "code",
   "execution_count": 6,
   "id": "ea5ada8e",
   "metadata": {
    "execution": {
     "iopub.execute_input": "2024-08-18T15:59:49.926438Z",
     "iopub.status.busy": "2024-08-18T15:59:49.926054Z",
     "iopub.status.idle": "2024-08-18T15:59:49.934542Z",
     "shell.execute_reply": "2024-08-18T15:59:49.933468Z"
    },
    "papermill": {
     "duration": 0.022717,
     "end_time": "2024-08-18T15:59:49.937395",
     "exception": false,
     "start_time": "2024-08-18T15:59:49.914678",
     "status": "completed"
    },
    "tags": []
   },
   "outputs": [
    {
     "data": {
      "text/plain": [
       "0"
      ]
     },
     "execution_count": 6,
     "metadata": {},
     "output_type": "execute_result"
    }
   ],
   "source": [
    "data.duplicated().sum()"
   ]
  },
  {
   "cell_type": "code",
   "execution_count": 7,
   "id": "a5a70fcb",
   "metadata": {
    "execution": {
     "iopub.execute_input": "2024-08-18T15:59:49.959430Z",
     "iopub.status.busy": "2024-08-18T15:59:49.959056Z",
     "iopub.status.idle": "2024-08-18T15:59:49.993712Z",
     "shell.execute_reply": "2024-08-18T15:59:49.992404Z"
    },
    "papermill": {
     "duration": 0.048762,
     "end_time": "2024-08-18T15:59:49.996364",
     "exception": false,
     "start_time": "2024-08-18T15:59:49.947602",
     "status": "completed"
    },
    "tags": []
   },
   "outputs": [
    {
     "data": {
      "text/html": [
       "<div>\n",
       "<style scoped>\n",
       "    .dataframe tbody tr th:only-of-type {\n",
       "        vertical-align: middle;\n",
       "    }\n",
       "\n",
       "    .dataframe tbody tr th {\n",
       "        vertical-align: top;\n",
       "    }\n",
       "\n",
       "    .dataframe thead th {\n",
       "        text-align: right;\n",
       "    }\n",
       "</style>\n",
       "<table border=\"1\" class=\"dataframe\">\n",
       "  <thead>\n",
       "    <tr style=\"text-align: right;\">\n",
       "      <th></th>\n",
       "      <th>count</th>\n",
       "      <th>mean</th>\n",
       "      <th>std</th>\n",
       "      <th>min</th>\n",
       "      <th>25%</th>\n",
       "      <th>50%</th>\n",
       "      <th>75%</th>\n",
       "      <th>max</th>\n",
       "    </tr>\n",
       "  </thead>\n",
       "  <tbody>\n",
       "    <tr>\n",
       "      <th>Rank</th>\n",
       "      <td>91.0</td>\n",
       "      <td>45.307692</td>\n",
       "      <td>25.652244</td>\n",
       "      <td>1.0</td>\n",
       "      <td>23.5</td>\n",
       "      <td>44.0</td>\n",
       "      <td>68.0</td>\n",
       "      <td>84.0</td>\n",
       "    </tr>\n",
       "    <tr>\n",
       "      <th>Gold</th>\n",
       "      <td>91.0</td>\n",
       "      <td>3.604396</td>\n",
       "      <td>6.990278</td>\n",
       "      <td>0.0</td>\n",
       "      <td>0.0</td>\n",
       "      <td>1.0</td>\n",
       "      <td>3.0</td>\n",
       "      <td>40.0</td>\n",
       "    </tr>\n",
       "    <tr>\n",
       "      <th>Silver</th>\n",
       "      <td>91.0</td>\n",
       "      <td>3.593407</td>\n",
       "      <td>6.770816</td>\n",
       "      <td>0.0</td>\n",
       "      <td>0.0</td>\n",
       "      <td>1.0</td>\n",
       "      <td>3.0</td>\n",
       "      <td>44.0</td>\n",
       "    </tr>\n",
       "    <tr>\n",
       "      <th>Bronze</th>\n",
       "      <td>91.0</td>\n",
       "      <td>4.219780</td>\n",
       "      <td>6.558798</td>\n",
       "      <td>0.0</td>\n",
       "      <td>1.0</td>\n",
       "      <td>2.0</td>\n",
       "      <td>5.0</td>\n",
       "      <td>42.0</td>\n",
       "    </tr>\n",
       "    <tr>\n",
       "      <th>Total</th>\n",
       "      <td>91.0</td>\n",
       "      <td>11.417582</td>\n",
       "      <td>19.702829</td>\n",
       "      <td>1.0</td>\n",
       "      <td>2.0</td>\n",
       "      <td>5.0</td>\n",
       "      <td>9.0</td>\n",
       "      <td>126.0</td>\n",
       "    </tr>\n",
       "  </tbody>\n",
       "</table>\n",
       "</div>"
      ],
      "text/plain": [
       "        count       mean        std  min   25%   50%   75%    max\n",
       "Rank     91.0  45.307692  25.652244  1.0  23.5  44.0  68.0   84.0\n",
       "Gold     91.0   3.604396   6.990278  0.0   0.0   1.0   3.0   40.0\n",
       "Silver   91.0   3.593407   6.770816  0.0   0.0   1.0   3.0   44.0\n",
       "Bronze   91.0   4.219780   6.558798  0.0   1.0   2.0   5.0   42.0\n",
       "Total    91.0  11.417582  19.702829  1.0   2.0   5.0   9.0  126.0"
      ]
     },
     "execution_count": 7,
     "metadata": {},
     "output_type": "execute_result"
    }
   ],
   "source": [
    "data.describe().T"
   ]
  },
  {
   "cell_type": "code",
   "execution_count": 8,
   "id": "faa4d7a0",
   "metadata": {
    "execution": {
     "iopub.execute_input": "2024-08-18T15:59:50.020071Z",
     "iopub.status.busy": "2024-08-18T15:59:50.018888Z",
     "iopub.status.idle": "2024-08-18T15:59:50.034019Z",
     "shell.execute_reply": "2024-08-18T15:59:50.032842Z"
    },
    "papermill": {
     "duration": 0.029537,
     "end_time": "2024-08-18T15:59:50.036655",
     "exception": false,
     "start_time": "2024-08-18T15:59:50.007118",
     "status": "completed"
    },
    "tags": []
   },
   "outputs": [
    {
     "data": {
      "text/plain": [
       "Rank  Country         Country Code  Gold  Silver  Bronze  Total\n",
       "1     United States   US            40    44      42      126      1\n",
       "68    North Korea     PRK           0     2       4       6        1\n",
       "66    Colombia        COL           0     3       1       4        1\n",
       "      Armenia         ARM           0     3       1       4        1\n",
       "65    Mexico          MEX           0     3       2       5        1\n",
       "                                                                  ..\n",
       "29    Denmark         DEN           2     2       5       9        1\n",
       "28    Czech Republic  CZE           3     0       2       5        1\n",
       "27    Serbia          SER           3     1       1       5        1\n",
       "26    Bulgaria        BUL           3     1       3       7        1\n",
       "84    Zambia          ZAM           0     0       1       1        1\n",
       "Name: count, Length: 91, dtype: int64"
      ]
     },
     "execution_count": 8,
     "metadata": {},
     "output_type": "execute_result"
    }
   ],
   "source": [
    "data.value_counts()"
   ]
  },
  {
   "cell_type": "code",
   "execution_count": 9,
   "id": "c73ee0d2",
   "metadata": {
    "execution": {
     "iopub.execute_input": "2024-08-18T15:59:50.061082Z",
     "iopub.status.busy": "2024-08-18T15:59:50.059947Z",
     "iopub.status.idle": "2024-08-18T15:59:50.068495Z",
     "shell.execute_reply": "2024-08-18T15:59:50.067309Z"
    },
    "papermill": {
     "duration": 0.023203,
     "end_time": "2024-08-18T15:59:50.070955",
     "exception": false,
     "start_time": "2024-08-18T15:59:50.047752",
     "status": "completed"
    },
    "tags": []
   },
   "outputs": [
    {
     "data": {
      "text/plain": [
       "array(['United States', 'China', 'Japan', 'Australia', 'France',\n",
       "       'Netherlands', 'Great Britain', 'South Korea', 'Italy', 'Germany',\n",
       "       'New Zealand', 'Canada', 'Uzbekistan', 'Hungary', 'Spain',\n",
       "       'Sweden', 'Kenya', 'Norway', 'Ireland', 'Brazil', 'Iran',\n",
       "       'Ukraine', 'Romania', 'Georgia', 'Belgium', 'Bulgaria', 'Serbia',\n",
       "       'Czech Republic', 'Denmark', 'Azerbaijan', 'Croatia', 'Cuba',\n",
       "       'Bahrain', 'Slovenia', 'Chinese Taipei', 'Austria', 'Hong Kong',\n",
       "       'Philippines', 'Algeria', 'Indonesia', 'Israel', 'Poland',\n",
       "       'Kazakhstan', 'Jamaica', 'South Africa', 'Thailand', 'Ethiopia',\n",
       "       'Switzerland', 'Ecuador', 'Portugal', 'Greece', 'Argentina',\n",
       "       'Egypt', 'Tunisia', 'Botswana', 'Chile', 'St Lucia', 'Uganda',\n",
       "       'Dominican Republic', 'Guatemala', 'Morocco', 'Dominica',\n",
       "       'Pakistan', 'Turkey', 'Mexico', 'Armenia', 'Colombia',\n",
       "       'North Korea', 'Kyrgyzstan', 'Lithuania', 'India', 'Moldova',\n",
       "       'Kosovo', 'Cyprus', 'Fiji', 'Jordan', 'Mongolia', 'Panama',\n",
       "       'Tajikistan', 'Albania', 'Grenada', 'Malaysia', 'Puerto Rico',\n",
       "       'Cape Verde', 'Ivory Coast', 'Refugee Olympic Team', 'Peru',\n",
       "       'Qatar', 'Singapore', 'Slovakia', 'Zambia'], dtype=object)"
      ]
     },
     "execution_count": 9,
     "metadata": {},
     "output_type": "execute_result"
    }
   ],
   "source": [
    "data['Country'].unique()"
   ]
  },
  {
   "cell_type": "markdown",
   "id": "85dbfec7",
   "metadata": {
    "papermill": {
     "duration": 0.011206,
     "end_time": "2024-08-18T15:59:50.092969",
     "exception": false,
     "start_time": "2024-08-18T15:59:50.081763",
     "status": "completed"
    },
    "tags": []
   },
   "source": [
    "**<a id=\"4\"></a>\n",
    "# <p style=\"background-image: url(https://i.postimg.cc/K87ByXmr/stage5.jpg);font-family:camtasia;font-size:120%;color:white;text-align:center;border-radius:15px 50px; padding:7px\">EDA 🕵️‍♂️🕵️‍♂️</p>\n",
    "<a class=\"btn\" href=\"#home\">Tabel of Contents</a>"
   ]
  },
  {
   "cell_type": "code",
   "execution_count": 10,
   "id": "909c442e",
   "metadata": {
    "execution": {
     "iopub.execute_input": "2024-08-18T15:59:50.116668Z",
     "iopub.status.busy": "2024-08-18T15:59:50.116216Z",
     "iopub.status.idle": "2024-08-18T15:59:50.288303Z",
     "shell.execute_reply": "2024-08-18T15:59:50.286886Z"
    },
    "papermill": {
     "duration": 0.189319,
     "end_time": "2024-08-18T15:59:50.293198",
     "exception": false,
     "start_time": "2024-08-18T15:59:50.103879",
     "status": "completed"
    },
    "tags": []
   },
   "outputs": [
    {
     "data": {
      "image/png": "[encoded data removed]",
      "text/plain": [
       "<Figure size 640x480 with 1 Axes>"
      ]
     },
     "metadata": {},
     "output_type": "display_data"
    }
   ],
   "source": [
    "total_gold = data['Gold'].sum()\n",
    "total_silver = data['Silver'].sum()\n",
    "total_bronze = data['Bronze'].sum()\n",
    "medal_counts = [total_gold, total_silver, total_bronze]\n",
    "medal_labels = ['Gold', 'Silver', 'Bronze']\n",
    "plt.pie(medal_counts, labels=medal_labels, autopct='%1.1f%%')\n",
    "plt.title('Overall Medal Distribution by Type - Olympics 2024')\n",
    "plt.show()"
   ]
  },
  {
   "cell_type": "code",
   "execution_count": 11,
   "id": "177096be",
   "metadata": {
    "execution": {
     "iopub.execute_input": "2024-08-18T15:59:50.345413Z",
     "iopub.status.busy": "2024-08-18T15:59:50.343504Z",
     "iopub.status.idle": "2024-08-18T15:59:50.366287Z",
     "shell.execute_reply": "2024-08-18T15:59:50.365093Z"
    },
    "papermill": {
     "duration": 0.052094,
     "end_time": "2024-08-18T15:59:50.368883",
     "exception": false,
     "start_time": "2024-08-18T15:59:50.316789",
     "status": "completed"
    },
    "tags": []
   },
   "outputs": [
    {
     "data": {
      "text/html": [
       "<div>\n",
       "<style scoped>\n",
       "    .dataframe tbody tr th:only-of-type {\n",
       "        vertical-align: middle;\n",
       "    }\n",
       "\n",
       "    .dataframe tbody tr th {\n",
       "        vertical-align: top;\n",
       "    }\n",
       "\n",
       "    .dataframe thead th {\n",
       "        text-align: right;\n",
       "    }\n",
       "</style>\n",
       "<table border=\"1\" class=\"dataframe\">\n",
       "  <thead>\n",
       "    <tr style=\"text-align: right;\">\n",
       "      <th></th>\n",
       "      <th>Rank</th>\n",
       "      <th>Country</th>\n",
       "      <th>Country Code</th>\n",
       "      <th>Gold</th>\n",
       "      <th>Silver</th>\n",
       "      <th>Bronze</th>\n",
       "      <th>Total</th>\n",
       "    </tr>\n",
       "  </thead>\n",
       "  <tbody>\n",
       "    <tr>\n",
       "      <th>0</th>\n",
       "      <td>1</td>\n",
       "      <td>United States</td>\n",
       "      <td>US</td>\n",
       "      <td>40</td>\n",
       "      <td>44</td>\n",
       "      <td>42</td>\n",
       "      <td>126</td>\n",
       "    </tr>\n",
       "    <tr>\n",
       "      <th>1</th>\n",
       "      <td>2</td>\n",
       "      <td>China</td>\n",
       "      <td>CHN</td>\n",
       "      <td>40</td>\n",
       "      <td>27</td>\n",
       "      <td>24</td>\n",
       "      <td>91</td>\n",
       "    </tr>\n",
       "    <tr>\n",
       "      <th>2</th>\n",
       "      <td>3</td>\n",
       "      <td>Japan</td>\n",
       "      <td>JPN</td>\n",
       "      <td>20</td>\n",
       "      <td>12</td>\n",
       "      <td>13</td>\n",
       "      <td>45</td>\n",
       "    </tr>\n",
       "    <tr>\n",
       "      <th>3</th>\n",
       "      <td>4</td>\n",
       "      <td>Australia</td>\n",
       "      <td>AUS</td>\n",
       "      <td>18</td>\n",
       "      <td>19</td>\n",
       "      <td>16</td>\n",
       "      <td>53</td>\n",
       "    </tr>\n",
       "    <tr>\n",
       "      <th>4</th>\n",
       "      <td>5</td>\n",
       "      <td>France</td>\n",
       "      <td>FRA</td>\n",
       "      <td>16</td>\n",
       "      <td>26</td>\n",
       "      <td>22</td>\n",
       "      <td>64</td>\n",
       "    </tr>\n",
       "    <tr>\n",
       "      <th>5</th>\n",
       "      <td>6</td>\n",
       "      <td>Netherlands</td>\n",
       "      <td>NED</td>\n",
       "      <td>15</td>\n",
       "      <td>7</td>\n",
       "      <td>12</td>\n",
       "      <td>34</td>\n",
       "    </tr>\n",
       "    <tr>\n",
       "      <th>6</th>\n",
       "      <td>7</td>\n",
       "      <td>Great Britain</td>\n",
       "      <td>GBG</td>\n",
       "      <td>14</td>\n",
       "      <td>22</td>\n",
       "      <td>29</td>\n",
       "      <td>65</td>\n",
       "    </tr>\n",
       "    <tr>\n",
       "      <th>7</th>\n",
       "      <td>8</td>\n",
       "      <td>South Korea</td>\n",
       "      <td>KOR</td>\n",
       "      <td>13</td>\n",
       "      <td>9</td>\n",
       "      <td>10</td>\n",
       "      <td>32</td>\n",
       "    </tr>\n",
       "    <tr>\n",
       "      <th>8</th>\n",
       "      <td>9</td>\n",
       "      <td>Italy</td>\n",
       "      <td>ITA</td>\n",
       "      <td>12</td>\n",
       "      <td>13</td>\n",
       "      <td>15</td>\n",
       "      <td>40</td>\n",
       "    </tr>\n",
       "    <tr>\n",
       "      <th>9</th>\n",
       "      <td>10</td>\n",
       "      <td>Germany</td>\n",
       "      <td>GER</td>\n",
       "      <td>12</td>\n",
       "      <td>13</td>\n",
       "      <td>8</td>\n",
       "      <td>33</td>\n",
       "    </tr>\n",
       "  </tbody>\n",
       "</table>\n",
       "</div>"
      ],
      "text/plain": [
       "   Rank        Country Country Code  Gold  Silver  Bronze  Total\n",
       "0     1  United States           US    40      44      42    126\n",
       "1     2          China          CHN    40      27      24     91\n",
       "2     3          Japan          JPN    20      12      13     45\n",
       "3     4      Australia          AUS    18      19      16     53\n",
       "4     5         France          FRA    16      26      22     64\n",
       "5     6    Netherlands          NED    15       7      12     34\n",
       "6     7  Great Britain          GBG    14      22      29     65\n",
       "7     8    South Korea          KOR    13       9      10     32\n",
       "8     9          Italy          ITA    12      13      15     40\n",
       "9    10        Germany          GER    12      13       8     33"
      ]
     },
     "execution_count": 11,
     "metadata": {},
     "output_type": "execute_result"
    }
   ],
   "source": [
    "#The country with the Top_10 Gold medals\n",
    "Gold_top_10=data.sort_values(by='Gold',ascending=False)[:10]\n",
    "Gold_top_10"
   ]
  },
  {
   "cell_type": "code",
   "execution_count": 12,
   "id": "e18c1f6f",
   "metadata": {
    "execution": {
     "iopub.execute_input": "2024-08-18T15:59:50.394246Z",
     "iopub.status.busy": "2024-08-18T15:59:50.393822Z",
     "iopub.status.idle": "2024-08-18T15:59:51.031540Z",
     "shell.execute_reply": "2024-08-18T15:59:51.030221Z"
    },
    "papermill": {
     "duration": 0.653156,
     "end_time": "2024-08-18T15:59:51.033947",
     "exception": false,
     "start_time": "2024-08-18T15:59:50.380791",
     "status": "completed"
    },
    "tags": []
   },
   "outputs": [
    {
     "data": {
      "image/png": "[encoded data removed]",
      "text/plain": [
       "<Figure size 800x600 with 1 Axes>"
      ]
     },
     "metadata": {},
     "output_type": "display_data"
    }
   ],
   "source": [
    "fig, ax = plt.subplots(figsize=(8, 6))\n",
    "sns.barplot(x='Country', y='Gold', data=Gold_top_10, ax=ax,palette='viridis')\n",
    "ax.set_title('Top 10 Countries by Gold Medals')\n",
    "ax.set_xlabel('Country')\n",
    "ax.set_ylabel('Gold Medals')\n",
    "ax.tick_params(axis='x', rotation=45)\n",
    "plt.tight_layout()\n",
    "plt.show()"
   ]
  },
  {
   "cell_type": "code",
   "execution_count": 13,
   "id": "32d5a6d4",
   "metadata": {
    "execution": {
     "iopub.execute_input": "2024-08-18T15:59:51.062287Z",
     "iopub.status.busy": "2024-08-18T15:59:51.060996Z",
     "iopub.status.idle": "2024-08-18T15:59:51.077240Z",
     "shell.execute_reply": "2024-08-18T15:59:51.076048Z"
    },
    "papermill": {
     "duration": 0.033102,
     "end_time": "2024-08-18T15:59:51.079912",
     "exception": false,
     "start_time": "2024-08-18T15:59:51.046810",
     "status": "completed"
    },
    "tags": []
   },
   "outputs": [
    {
     "data": {
      "text/html": [
       "<div>\n",
       "<style scoped>\n",
       "    .dataframe tbody tr th:only-of-type {\n",
       "        vertical-align: middle;\n",
       "    }\n",
       "\n",
       "    .dataframe tbody tr th {\n",
       "        vertical-align: top;\n",
       "    }\n",
       "\n",
       "    .dataframe thead th {\n",
       "        text-align: right;\n",
       "    }\n",
       "</style>\n",
       "<table border=\"1\" class=\"dataframe\">\n",
       "  <thead>\n",
       "    <tr style=\"text-align: right;\">\n",
       "      <th></th>\n",
       "      <th>Rank</th>\n",
       "      <th>Country</th>\n",
       "      <th>Country Code</th>\n",
       "      <th>Gold</th>\n",
       "      <th>Silver</th>\n",
       "      <th>Bronze</th>\n",
       "      <th>Total</th>\n",
       "    </tr>\n",
       "  </thead>\n",
       "  <tbody>\n",
       "    <tr>\n",
       "      <th>0</th>\n",
       "      <td>84</td>\n",
       "      <td>Zambia</td>\n",
       "      <td>ZAM</td>\n",
       "      <td>0</td>\n",
       "      <td>0</td>\n",
       "      <td>1</td>\n",
       "      <td>1</td>\n",
       "    </tr>\n",
       "    <tr>\n",
       "      <th>1</th>\n",
       "      <td>64</td>\n",
       "      <td>Turkey</td>\n",
       "      <td>TUR</td>\n",
       "      <td>0</td>\n",
       "      <td>3</td>\n",
       "      <td>5</td>\n",
       "      <td>8</td>\n",
       "    </tr>\n",
       "    <tr>\n",
       "      <th>2</th>\n",
       "      <td>65</td>\n",
       "      <td>Mexico</td>\n",
       "      <td>MEX</td>\n",
       "      <td>0</td>\n",
       "      <td>3</td>\n",
       "      <td>2</td>\n",
       "      <td>5</td>\n",
       "    </tr>\n",
       "    <tr>\n",
       "      <th>3</th>\n",
       "      <td>66</td>\n",
       "      <td>Armenia</td>\n",
       "      <td>ARM</td>\n",
       "      <td>0</td>\n",
       "      <td>3</td>\n",
       "      <td>1</td>\n",
       "      <td>4</td>\n",
       "    </tr>\n",
       "    <tr>\n",
       "      <th>4</th>\n",
       "      <td>66</td>\n",
       "      <td>Colombia</td>\n",
       "      <td>COL</td>\n",
       "      <td>0</td>\n",
       "      <td>3</td>\n",
       "      <td>1</td>\n",
       "      <td>4</td>\n",
       "    </tr>\n",
       "    <tr>\n",
       "      <th>5</th>\n",
       "      <td>68</td>\n",
       "      <td>Kyrgyzstan</td>\n",
       "      <td>KGZ</td>\n",
       "      <td>0</td>\n",
       "      <td>2</td>\n",
       "      <td>4</td>\n",
       "      <td>6</td>\n",
       "    </tr>\n",
       "    <tr>\n",
       "      <th>6</th>\n",
       "      <td>70</td>\n",
       "      <td>Lithuania</td>\n",
       "      <td>LTU</td>\n",
       "      <td>0</td>\n",
       "      <td>2</td>\n",
       "      <td>2</td>\n",
       "      <td>4</td>\n",
       "    </tr>\n",
       "    <tr>\n",
       "      <th>7</th>\n",
       "      <td>71</td>\n",
       "      <td>India</td>\n",
       "      <td>IND</td>\n",
       "      <td>0</td>\n",
       "      <td>1</td>\n",
       "      <td>5</td>\n",
       "      <td>6</td>\n",
       "    </tr>\n",
       "    <tr>\n",
       "      <th>8</th>\n",
       "      <td>72</td>\n",
       "      <td>Moldova</td>\n",
       "      <td>MDA</td>\n",
       "      <td>0</td>\n",
       "      <td>1</td>\n",
       "      <td>3</td>\n",
       "      <td>4</td>\n",
       "    </tr>\n",
       "    <tr>\n",
       "      <th>9</th>\n",
       "      <td>73</td>\n",
       "      <td>Kosovo</td>\n",
       "      <td>KOS</td>\n",
       "      <td>0</td>\n",
       "      <td>1</td>\n",
       "      <td>1</td>\n",
       "      <td>2</td>\n",
       "    </tr>\n",
       "  </tbody>\n",
       "</table>\n",
       "</div>"
      ],
      "text/plain": [
       "   Rank     Country Country Code  Gold  Silver  Bronze  Total\n",
       "0    84      Zambia          ZAM     0       0       1      1\n",
       "1    64      Turkey          TUR     0       3       5      8\n",
       "2    65      Mexico          MEX     0       3       2      5\n",
       "3    66     Armenia          ARM     0       3       1      4\n",
       "4    66    Colombia          COL     0       3       1      4\n",
       "5    68  Kyrgyzstan          KGZ     0       2       4      6\n",
       "6    70   Lithuania          LTU     0       2       2      4\n",
       "7    71       India          IND     0       1       5      6\n",
       "8    72     Moldova          MDA     0       1       3      4\n",
       "9    73      Kosovo          KOS     0       1       1      2"
      ]
     },
     "execution_count": 13,
     "metadata": {},
     "output_type": "execute_result"
    }
   ],
   "source": [
    "#The country with the Least_10 Gold medals\n",
    "Gold_least_10=data.sort_values(by='Gold',ascending=True).reset_index(drop=True)[:10]\n",
    "Gold_least_10"
   ]
  },
  {
   "cell_type": "code",
   "execution_count": 14,
   "id": "031149e6",
   "metadata": {
    "execution": {
     "iopub.execute_input": "2024-08-18T15:59:51.108515Z",
     "iopub.status.busy": "2024-08-18T15:59:51.108074Z",
     "iopub.status.idle": "2024-08-18T15:59:51.124428Z",
     "shell.execute_reply": "2024-08-18T15:59:51.123164Z"
    },
    "papermill": {
     "duration": 0.033513,
     "end_time": "2024-08-18T15:59:51.126943",
     "exception": false,
     "start_time": "2024-08-18T15:59:51.093430",
     "status": "completed"
    },
    "tags": []
   },
   "outputs": [
    {
     "data": {
      "text/html": [
       "<div>\n",
       "<style scoped>\n",
       "    .dataframe tbody tr th:only-of-type {\n",
       "        vertical-align: middle;\n",
       "    }\n",
       "\n",
       "    .dataframe tbody tr th {\n",
       "        vertical-align: top;\n",
       "    }\n",
       "\n",
       "    .dataframe thead th {\n",
       "        text-align: right;\n",
       "    }\n",
       "</style>\n",
       "<table border=\"1\" class=\"dataframe\">\n",
       "  <thead>\n",
       "    <tr style=\"text-align: right;\">\n",
       "      <th></th>\n",
       "      <th>Rank</th>\n",
       "      <th>Country</th>\n",
       "      <th>Country Code</th>\n",
       "      <th>Gold</th>\n",
       "      <th>Silver</th>\n",
       "      <th>Bronze</th>\n",
       "      <th>Total</th>\n",
       "    </tr>\n",
       "  </thead>\n",
       "  <tbody>\n",
       "    <tr>\n",
       "      <th>0</th>\n",
       "      <td>1</td>\n",
       "      <td>United States</td>\n",
       "      <td>US</td>\n",
       "      <td>40</td>\n",
       "      <td>44</td>\n",
       "      <td>42</td>\n",
       "      <td>126</td>\n",
       "    </tr>\n",
       "    <tr>\n",
       "      <th>1</th>\n",
       "      <td>2</td>\n",
       "      <td>China</td>\n",
       "      <td>CHN</td>\n",
       "      <td>40</td>\n",
       "      <td>27</td>\n",
       "      <td>24</td>\n",
       "      <td>91</td>\n",
       "    </tr>\n",
       "    <tr>\n",
       "      <th>2</th>\n",
       "      <td>5</td>\n",
       "      <td>France</td>\n",
       "      <td>FRA</td>\n",
       "      <td>16</td>\n",
       "      <td>26</td>\n",
       "      <td>22</td>\n",
       "      <td>64</td>\n",
       "    </tr>\n",
       "    <tr>\n",
       "      <th>3</th>\n",
       "      <td>7</td>\n",
       "      <td>Great Britain</td>\n",
       "      <td>GBG</td>\n",
       "      <td>14</td>\n",
       "      <td>22</td>\n",
       "      <td>29</td>\n",
       "      <td>65</td>\n",
       "    </tr>\n",
       "    <tr>\n",
       "      <th>4</th>\n",
       "      <td>4</td>\n",
       "      <td>Australia</td>\n",
       "      <td>AUS</td>\n",
       "      <td>18</td>\n",
       "      <td>19</td>\n",
       "      <td>16</td>\n",
       "      <td>53</td>\n",
       "    </tr>\n",
       "    <tr>\n",
       "      <th>5</th>\n",
       "      <td>9</td>\n",
       "      <td>Italy</td>\n",
       "      <td>ITA</td>\n",
       "      <td>12</td>\n",
       "      <td>13</td>\n",
       "      <td>15</td>\n",
       "      <td>40</td>\n",
       "    </tr>\n",
       "    <tr>\n",
       "      <th>6</th>\n",
       "      <td>10</td>\n",
       "      <td>Germany</td>\n",
       "      <td>GER</td>\n",
       "      <td>12</td>\n",
       "      <td>13</td>\n",
       "      <td>8</td>\n",
       "      <td>33</td>\n",
       "    </tr>\n",
       "    <tr>\n",
       "      <th>7</th>\n",
       "      <td>3</td>\n",
       "      <td>Japan</td>\n",
       "      <td>JPN</td>\n",
       "      <td>20</td>\n",
       "      <td>12</td>\n",
       "      <td>13</td>\n",
       "      <td>45</td>\n",
       "    </tr>\n",
       "    <tr>\n",
       "      <th>8</th>\n",
       "      <td>8</td>\n",
       "      <td>South Korea</td>\n",
       "      <td>KOR</td>\n",
       "      <td>13</td>\n",
       "      <td>9</td>\n",
       "      <td>10</td>\n",
       "      <td>32</td>\n",
       "    </tr>\n",
       "    <tr>\n",
       "      <th>9</th>\n",
       "      <td>6</td>\n",
       "      <td>Netherlands</td>\n",
       "      <td>NED</td>\n",
       "      <td>15</td>\n",
       "      <td>7</td>\n",
       "      <td>12</td>\n",
       "      <td>34</td>\n",
       "    </tr>\n",
       "  </tbody>\n",
       "</table>\n",
       "</div>"
      ],
      "text/plain": [
       "   Rank        Country Country Code  Gold  Silver  Bronze  Total\n",
       "0     1  United States           US    40      44      42    126\n",
       "1     2          China          CHN    40      27      24     91\n",
       "2     5         France          FRA    16      26      22     64\n",
       "3     7  Great Britain          GBG    14      22      29     65\n",
       "4     4      Australia          AUS    18      19      16     53\n",
       "5     9          Italy          ITA    12      13      15     40\n",
       "6    10        Germany          GER    12      13       8     33\n",
       "7     3          Japan          JPN    20      12      13     45\n",
       "8     8    South Korea          KOR    13       9      10     32\n",
       "9     6    Netherlands          NED    15       7      12     34"
      ]
     },
     "execution_count": 14,
     "metadata": {},
     "output_type": "execute_result"
    }
   ],
   "source": [
    "#The country with the Top_10 Silver medals\n",
    "Silver_top_10=data.sort_values(by='Silver',ascending=False).reset_index(drop=True)[:10]\n",
    "Silver_top_10"
   ]
  },
  {
   "cell_type": "code",
   "execution_count": 15,
   "id": "ad1f82f7",
   "metadata": {
    "execution": {
     "iopub.execute_input": "2024-08-18T15:59:51.156612Z",
     "iopub.status.busy": "2024-08-18T15:59:51.155512Z",
     "iopub.status.idle": "2024-08-18T15:59:51.665117Z",
     "shell.execute_reply": "2024-08-18T15:59:51.663883Z"
    },
    "papermill": {
     "duration": 0.527107,
     "end_time": "2024-08-18T15:59:51.667583",
     "exception": false,
     "start_time": "2024-08-18T15:59:51.140476",
     "status": "completed"
    },
    "tags": []
   },
   "outputs": [
    {
     "data": {
      "image/png": "[encoded data removed]",
      "text/plain": [
       "<Figure size 800x600 with 1 Axes>"
      ]
     },
     "metadata": {},
     "output_type": "display_data"
    }
   ],
   "source": [
    "fig, ax = plt.subplots(figsize=(8, 6))\n",
    "sns.barplot(x='Country', y='Silver', data=Silver_top_10, ax=ax,palette='viridis')\n",
    "ax.set_title('Top 10 Countries by Silver Medals')\n",
    "ax.set_xlabel('Country')\n",
    "ax.set_ylabel('Silver Medals')\n",
    "ax.tick_params(axis='x', rotation=45)\n",
    "plt.tight_layout()\n",
    "plt.show()"
   ]
  },
  {
   "cell_type": "code",
   "execution_count": 16,
   "id": "28eb6f28",
   "metadata": {
    "execution": {
     "iopub.execute_input": "2024-08-18T15:59:51.698649Z",
     "iopub.status.busy": "2024-08-18T15:59:51.698243Z",
     "iopub.status.idle": "2024-08-18T15:59:51.714803Z",
     "shell.execute_reply": "2024-08-18T15:59:51.713624Z"
    },
    "papermill": {
     "duration": 0.035183,
     "end_time": "2024-08-18T15:59:51.717539",
     "exception": false,
     "start_time": "2024-08-18T15:59:51.682356",
     "status": "completed"
    },
    "tags": []
   },
   "outputs": [
    {
     "data": {
      "text/html": [
       "<div>\n",
       "<style scoped>\n",
       "    .dataframe tbody tr th:only-of-type {\n",
       "        vertical-align: middle;\n",
       "    }\n",
       "\n",
       "    .dataframe tbody tr th {\n",
       "        vertical-align: top;\n",
       "    }\n",
       "\n",
       "    .dataframe thead th {\n",
       "        text-align: right;\n",
       "    }\n",
       "</style>\n",
       "<table border=\"1\" class=\"dataframe\">\n",
       "  <thead>\n",
       "    <tr style=\"text-align: right;\">\n",
       "      <th></th>\n",
       "      <th>Rank</th>\n",
       "      <th>Country</th>\n",
       "      <th>Country Code</th>\n",
       "      <th>Gold</th>\n",
       "      <th>Silver</th>\n",
       "      <th>Bronze</th>\n",
       "      <th>Total</th>\n",
       "    </tr>\n",
       "  </thead>\n",
       "  <tbody>\n",
       "    <tr>\n",
       "      <th>0</th>\n",
       "      <td>84</td>\n",
       "      <td>Zambia</td>\n",
       "      <td>ZAM</td>\n",
       "      <td>0</td>\n",
       "      <td>0</td>\n",
       "      <td>1</td>\n",
       "      <td>1</td>\n",
       "    </tr>\n",
       "    <tr>\n",
       "      <th>1</th>\n",
       "      <td>60</td>\n",
       "      <td>Morocco</td>\n",
       "      <td>MOR</td>\n",
       "      <td>1</td>\n",
       "      <td>0</td>\n",
       "      <td>1</td>\n",
       "      <td>2</td>\n",
       "    </tr>\n",
       "    <tr>\n",
       "      <th>2</th>\n",
       "      <td>60</td>\n",
       "      <td>Guatemala</td>\n",
       "      <td>GUA</td>\n",
       "      <td>1</td>\n",
       "      <td>0</td>\n",
       "      <td>1</td>\n",
       "      <td>2</td>\n",
       "    </tr>\n",
       "    <tr>\n",
       "      <th>3</th>\n",
       "      <td>59</td>\n",
       "      <td>Dominican Republic</td>\n",
       "      <td>DOM</td>\n",
       "      <td>1</td>\n",
       "      <td>0</td>\n",
       "      <td>2</td>\n",
       "      <td>3</td>\n",
       "    </tr>\n",
       "    <tr>\n",
       "      <th>4</th>\n",
       "      <td>84</td>\n",
       "      <td>Slovakia</td>\n",
       "      <td>SVK</td>\n",
       "      <td>0</td>\n",
       "      <td>0</td>\n",
       "      <td>1</td>\n",
       "      <td>1</td>\n",
       "    </tr>\n",
       "    <tr>\n",
       "      <th>5</th>\n",
       "      <td>39</td>\n",
       "      <td>Indonesia</td>\n",
       "      <td>IDN</td>\n",
       "      <td>2</td>\n",
       "      <td>0</td>\n",
       "      <td>1</td>\n",
       "      <td>3</td>\n",
       "    </tr>\n",
       "    <tr>\n",
       "      <th>6</th>\n",
       "      <td>39</td>\n",
       "      <td>Algeria</td>\n",
       "      <td>ALG</td>\n",
       "      <td>2</td>\n",
       "      <td>0</td>\n",
       "      <td>1</td>\n",
       "      <td>3</td>\n",
       "    </tr>\n",
       "    <tr>\n",
       "      <th>7</th>\n",
       "      <td>37</td>\n",
       "      <td>Philippines</td>\n",
       "      <td>PHI</td>\n",
       "      <td>2</td>\n",
       "      <td>0</td>\n",
       "      <td>2</td>\n",
       "      <td>4</td>\n",
       "    </tr>\n",
       "    <tr>\n",
       "      <th>8</th>\n",
       "      <td>37</td>\n",
       "      <td>Hong Kong</td>\n",
       "      <td>HK</td>\n",
       "      <td>2</td>\n",
       "      <td>0</td>\n",
       "      <td>2</td>\n",
       "      <td>4</td>\n",
       "    </tr>\n",
       "    <tr>\n",
       "      <th>9</th>\n",
       "      <td>36</td>\n",
       "      <td>Austria</td>\n",
       "      <td>AUT</td>\n",
       "      <td>2</td>\n",
       "      <td>0</td>\n",
       "      <td>3</td>\n",
       "      <td>5</td>\n",
       "    </tr>\n",
       "  </tbody>\n",
       "</table>\n",
       "</div>"
      ],
      "text/plain": [
       "   Rank             Country Country Code  Gold  Silver  Bronze  Total\n",
       "0    84              Zambia          ZAM     0       0       1      1\n",
       "1    60             Morocco          MOR     1       0       1      2\n",
       "2    60           Guatemala          GUA     1       0       1      2\n",
       "3    59  Dominican Republic          DOM     1       0       2      3\n",
       "4    84            Slovakia          SVK     0       0       1      1\n",
       "5    39           Indonesia          IDN     2       0       1      3\n",
       "6    39             Algeria          ALG     2       0       1      3\n",
       "7    37         Philippines          PHI     2       0       2      4\n",
       "8    37           Hong Kong           HK     2       0       2      4\n",
       "9    36             Austria          AUT     2       0       3      5"
      ]
     },
     "execution_count": 16,
     "metadata": {},
     "output_type": "execute_result"
    }
   ],
   "source": [
    "#The country with the Least_10 Silver medals\n",
    "Silver_least_10=data.sort_values(by='Silver',ascending=True).reset_index(drop=True)[:10]\n",
    "Silver_least_10"
   ]
  },
  {
   "cell_type": "code",
   "execution_count": 17,
   "id": "5016b776",
   "metadata": {
    "execution": {
     "iopub.execute_input": "2024-08-18T15:59:51.749004Z",
     "iopub.status.busy": "2024-08-18T15:59:51.748569Z",
     "iopub.status.idle": "2024-08-18T15:59:51.764646Z",
     "shell.execute_reply": "2024-08-18T15:59:51.763528Z"
    },
    "papermill": {
     "duration": 0.034701,
     "end_time": "2024-08-18T15:59:51.767061",
     "exception": false,
     "start_time": "2024-08-18T15:59:51.732360",
     "status": "completed"
    },
    "tags": []
   },
   "outputs": [
    {
     "data": {
      "text/html": [
       "<div>\n",
       "<style scoped>\n",
       "    .dataframe tbody tr th:only-of-type {\n",
       "        vertical-align: middle;\n",
       "    }\n",
       "\n",
       "    .dataframe tbody tr th {\n",
       "        vertical-align: top;\n",
       "    }\n",
       "\n",
       "    .dataframe thead th {\n",
       "        text-align: right;\n",
       "    }\n",
       "</style>\n",
       "<table border=\"1\" class=\"dataframe\">\n",
       "  <thead>\n",
       "    <tr style=\"text-align: right;\">\n",
       "      <th></th>\n",
       "      <th>Rank</th>\n",
       "      <th>Country</th>\n",
       "      <th>Country Code</th>\n",
       "      <th>Gold</th>\n",
       "      <th>Silver</th>\n",
       "      <th>Bronze</th>\n",
       "      <th>Total</th>\n",
       "    </tr>\n",
       "  </thead>\n",
       "  <tbody>\n",
       "    <tr>\n",
       "      <th>0</th>\n",
       "      <td>1</td>\n",
       "      <td>United States</td>\n",
       "      <td>US</td>\n",
       "      <td>40</td>\n",
       "      <td>44</td>\n",
       "      <td>42</td>\n",
       "      <td>126</td>\n",
       "    </tr>\n",
       "    <tr>\n",
       "      <th>1</th>\n",
       "      <td>7</td>\n",
       "      <td>Great Britain</td>\n",
       "      <td>GBG</td>\n",
       "      <td>14</td>\n",
       "      <td>22</td>\n",
       "      <td>29</td>\n",
       "      <td>65</td>\n",
       "    </tr>\n",
       "    <tr>\n",
       "      <th>2</th>\n",
       "      <td>2</td>\n",
       "      <td>China</td>\n",
       "      <td>CHN</td>\n",
       "      <td>40</td>\n",
       "      <td>27</td>\n",
       "      <td>24</td>\n",
       "      <td>91</td>\n",
       "    </tr>\n",
       "    <tr>\n",
       "      <th>3</th>\n",
       "      <td>5</td>\n",
       "      <td>France</td>\n",
       "      <td>FRA</td>\n",
       "      <td>16</td>\n",
       "      <td>26</td>\n",
       "      <td>22</td>\n",
       "      <td>64</td>\n",
       "    </tr>\n",
       "    <tr>\n",
       "      <th>4</th>\n",
       "      <td>4</td>\n",
       "      <td>Australia</td>\n",
       "      <td>AUS</td>\n",
       "      <td>18</td>\n",
       "      <td>19</td>\n",
       "      <td>16</td>\n",
       "      <td>53</td>\n",
       "    </tr>\n",
       "    <tr>\n",
       "      <th>5</th>\n",
       "      <td>9</td>\n",
       "      <td>Italy</td>\n",
       "      <td>ITA</td>\n",
       "      <td>12</td>\n",
       "      <td>13</td>\n",
       "      <td>15</td>\n",
       "      <td>40</td>\n",
       "    </tr>\n",
       "    <tr>\n",
       "      <th>6</th>\n",
       "      <td>3</td>\n",
       "      <td>Japan</td>\n",
       "      <td>JPN</td>\n",
       "      <td>20</td>\n",
       "      <td>12</td>\n",
       "      <td>13</td>\n",
       "      <td>45</td>\n",
       "    </tr>\n",
       "    <tr>\n",
       "      <th>7</th>\n",
       "      <td>6</td>\n",
       "      <td>Netherlands</td>\n",
       "      <td>NED</td>\n",
       "      <td>15</td>\n",
       "      <td>7</td>\n",
       "      <td>12</td>\n",
       "      <td>34</td>\n",
       "    </tr>\n",
       "    <tr>\n",
       "      <th>8</th>\n",
       "      <td>12</td>\n",
       "      <td>Canada</td>\n",
       "      <td>CAN</td>\n",
       "      <td>9</td>\n",
       "      <td>7</td>\n",
       "      <td>11</td>\n",
       "      <td>27</td>\n",
       "    </tr>\n",
       "    <tr>\n",
       "      <th>9</th>\n",
       "      <td>20</td>\n",
       "      <td>Brazil</td>\n",
       "      <td>BRZ</td>\n",
       "      <td>3</td>\n",
       "      <td>7</td>\n",
       "      <td>10</td>\n",
       "      <td>20</td>\n",
       "    </tr>\n",
       "  </tbody>\n",
       "</table>\n",
       "</div>"
      ],
      "text/plain": [
       "   Rank        Country Country Code  Gold  Silver  Bronze  Total\n",
       "0     1  United States           US    40      44      42    126\n",
       "1     7  Great Britain          GBG    14      22      29     65\n",
       "2     2          China          CHN    40      27      24     91\n",
       "3     5         France          FRA    16      26      22     64\n",
       "4     4      Australia          AUS    18      19      16     53\n",
       "5     9          Italy          ITA    12      13      15     40\n",
       "6     3          Japan          JPN    20      12      13     45\n",
       "7     6    Netherlands          NED    15       7      12     34\n",
       "8    12         Canada          CAN     9       7      11     27\n",
       "9    20         Brazil          BRZ     3       7      10     20"
      ]
     },
     "execution_count": 17,
     "metadata": {},
     "output_type": "execute_result"
    }
   ],
   "source": [
    "#The country with the Top_10 Bronze medals\n",
    "Bronze_top_10=data.sort_values(by='Bronze',ascending=False).reset_index(drop=True)[:10]\n",
    "Bronze_top_10"
   ]
  },
  {
   "cell_type": "code",
   "execution_count": 18,
   "id": "513d492e",
   "metadata": {
    "execution": {
     "iopub.execute_input": "2024-08-18T15:59:51.799850Z",
     "iopub.status.busy": "2024-08-18T15:59:51.798914Z",
     "iopub.status.idle": "2024-08-18T15:59:52.349518Z",
     "shell.execute_reply": "2024-08-18T15:59:52.348208Z"
    },
    "papermill": {
     "duration": 0.570604,
     "end_time": "2024-08-18T15:59:52.352897",
     "exception": false,
     "start_time": "2024-08-18T15:59:51.782293",
     "status": "completed"
    },
    "tags": []
   },
   "outputs": [
    {
     "data": {
      "image/png": "[encoded data removed]",
      "text/plain": [
       "<Figure size 800x600 with 1 Axes>"
      ]
     },
     "metadata": {},
     "output_type": "display_data"
    }
   ],
   "source": [
    "fig, ax = plt.subplots(figsize=(8, 6))\n",
    "sns.barplot(x='Country', y='Bronze', data=Bronze_top_10, ax=ax,palette='viridis')\n",
    "ax.set_title('Top 10 Countries by Bronze Medals')\n",
    "ax.set_xlabel('Country')\n",
    "ax.set_ylabel('Bronze Medals')\n",
    "ax.tick_params(axis='x', rotation=45)\n",
    "plt.tight_layout()\n",
    "plt.show()"
   ]
  },
  {
   "cell_type": "code",
   "execution_count": 19,
   "id": "3b9168aa",
   "metadata": {
    "execution": {
     "iopub.execute_input": "2024-08-18T15:59:52.389190Z",
     "iopub.status.busy": "2024-08-18T15:59:52.388767Z",
     "iopub.status.idle": "2024-08-18T15:59:52.404021Z",
     "shell.execute_reply": "2024-08-18T15:59:52.402945Z"
    },
    "papermill": {
     "duration": 0.036009,
     "end_time": "2024-08-18T15:59:52.406265",
     "exception": false,
     "start_time": "2024-08-18T15:59:52.370256",
     "status": "completed"
    },
    "tags": []
   },
   "outputs": [
    {
     "data": {
      "text/html": [
       "<div>\n",
       "<style scoped>\n",
       "    .dataframe tbody tr th:only-of-type {\n",
       "        vertical-align: middle;\n",
       "    }\n",
       "\n",
       "    .dataframe tbody tr th {\n",
       "        vertical-align: top;\n",
       "    }\n",
       "\n",
       "    .dataframe thead th {\n",
       "        text-align: right;\n",
       "    }\n",
       "</style>\n",
       "<table border=\"1\" class=\"dataframe\">\n",
       "  <thead>\n",
       "    <tr style=\"text-align: right;\">\n",
       "      <th></th>\n",
       "      <th>Rank</th>\n",
       "      <th>Country</th>\n",
       "      <th>Country Code</th>\n",
       "      <th>Gold</th>\n",
       "      <th>Silver</th>\n",
       "      <th>Bronze</th>\n",
       "      <th>Total</th>\n",
       "    </tr>\n",
       "  </thead>\n",
       "  <tbody>\n",
       "    <tr>\n",
       "      <th>0</th>\n",
       "      <td>62</td>\n",
       "      <td>Pakistan</td>\n",
       "      <td>PKN</td>\n",
       "      <td>1</td>\n",
       "      <td>0</td>\n",
       "      <td>0</td>\n",
       "      <td>1</td>\n",
       "    </tr>\n",
       "    <tr>\n",
       "      <th>1</th>\n",
       "      <td>47</td>\n",
       "      <td>Ethiopia</td>\n",
       "      <td>ETH</td>\n",
       "      <td>1</td>\n",
       "      <td>3</td>\n",
       "      <td>0</td>\n",
       "      <td>4</td>\n",
       "    </tr>\n",
       "    <tr>\n",
       "      <th>2</th>\n",
       "      <td>55</td>\n",
       "      <td>Uganda</td>\n",
       "      <td>UGA</td>\n",
       "      <td>1</td>\n",
       "      <td>1</td>\n",
       "      <td>0</td>\n",
       "      <td>2</td>\n",
       "    </tr>\n",
       "    <tr>\n",
       "      <th>3</th>\n",
       "      <td>55</td>\n",
       "      <td>St Lucia</td>\n",
       "      <td>LCA</td>\n",
       "      <td>1</td>\n",
       "      <td>1</td>\n",
       "      <td>0</td>\n",
       "      <td>2</td>\n",
       "    </tr>\n",
       "    <tr>\n",
       "      <th>4</th>\n",
       "      <td>55</td>\n",
       "      <td>Chile</td>\n",
       "      <td>CHI</td>\n",
       "      <td>1</td>\n",
       "      <td>1</td>\n",
       "      <td>0</td>\n",
       "      <td>2</td>\n",
       "    </tr>\n",
       "    <tr>\n",
       "      <th>5</th>\n",
       "      <td>74</td>\n",
       "      <td>Cyprus</td>\n",
       "      <td>CYP</td>\n",
       "      <td>0</td>\n",
       "      <td>1</td>\n",
       "      <td>0</td>\n",
       "      <td>1</td>\n",
       "    </tr>\n",
       "    <tr>\n",
       "      <th>6</th>\n",
       "      <td>74</td>\n",
       "      <td>Fiji</td>\n",
       "      <td>FIJ</td>\n",
       "      <td>0</td>\n",
       "      <td>1</td>\n",
       "      <td>0</td>\n",
       "      <td>1</td>\n",
       "    </tr>\n",
       "    <tr>\n",
       "      <th>7</th>\n",
       "      <td>74</td>\n",
       "      <td>Jordan</td>\n",
       "      <td>JOR</td>\n",
       "      <td>0</td>\n",
       "      <td>1</td>\n",
       "      <td>0</td>\n",
       "      <td>1</td>\n",
       "    </tr>\n",
       "    <tr>\n",
       "      <th>8</th>\n",
       "      <td>74</td>\n",
       "      <td>Mongolia</td>\n",
       "      <td>MGL</td>\n",
       "      <td>0</td>\n",
       "      <td>1</td>\n",
       "      <td>0</td>\n",
       "      <td>1</td>\n",
       "    </tr>\n",
       "    <tr>\n",
       "      <th>9</th>\n",
       "      <td>62</td>\n",
       "      <td>Dominica</td>\n",
       "      <td>DMA</td>\n",
       "      <td>1</td>\n",
       "      <td>0</td>\n",
       "      <td>0</td>\n",
       "      <td>1</td>\n",
       "    </tr>\n",
       "  </tbody>\n",
       "</table>\n",
       "</div>"
      ],
      "text/plain": [
       "   Rank   Country Country Code  Gold  Silver  Bronze  Total\n",
       "0    62  Pakistan          PKN     1       0       0      1\n",
       "1    47  Ethiopia          ETH     1       3       0      4\n",
       "2    55    Uganda          UGA     1       1       0      2\n",
       "3    55  St Lucia          LCA     1       1       0      2\n",
       "4    55     Chile          CHI     1       1       0      2\n",
       "5    74    Cyprus          CYP     0       1       0      1\n",
       "6    74      Fiji          FIJ     0       1       0      1\n",
       "7    74    Jordan          JOR     0       1       0      1\n",
       "8    74  Mongolia          MGL     0       1       0      1\n",
       "9    62  Dominica          DMA     1       0       0      1"
      ]
     },
     "execution_count": 19,
     "metadata": {},
     "output_type": "execute_result"
    }
   ],
   "source": [
    "#The country with the Least_10 Bronze medals\n",
    "Bronze_least_10=data.sort_values(by='Bronze',ascending=True).reset_index(drop=True)[:10]\n",
    "Bronze_least_10"
   ]
  },
  {
   "cell_type": "code",
   "execution_count": 20,
   "id": "e6e58600",
   "metadata": {
    "execution": {
     "iopub.execute_input": "2024-08-18T15:59:52.441566Z",
     "iopub.status.busy": "2024-08-18T15:59:52.440594Z",
     "iopub.status.idle": "2024-08-18T15:59:52.456187Z",
     "shell.execute_reply": "2024-08-18T15:59:52.455036Z"
    },
    "papermill": {
     "duration": 0.035575,
     "end_time": "2024-08-18T15:59:52.458538",
     "exception": false,
     "start_time": "2024-08-18T15:59:52.422963",
     "status": "completed"
    },
    "tags": []
   },
   "outputs": [
    {
     "data": {
      "text/html": [
       "<div>\n",
       "<style scoped>\n",
       "    .dataframe tbody tr th:only-of-type {\n",
       "        vertical-align: middle;\n",
       "    }\n",
       "\n",
       "    .dataframe tbody tr th {\n",
       "        vertical-align: top;\n",
       "    }\n",
       "\n",
       "    .dataframe thead th {\n",
       "        text-align: right;\n",
       "    }\n",
       "</style>\n",
       "<table border=\"1\" class=\"dataframe\">\n",
       "  <thead>\n",
       "    <tr style=\"text-align: right;\">\n",
       "      <th></th>\n",
       "      <th>Rank</th>\n",
       "      <th>Country</th>\n",
       "      <th>Country Code</th>\n",
       "      <th>Gold</th>\n",
       "      <th>Silver</th>\n",
       "      <th>Bronze</th>\n",
       "      <th>Total</th>\n",
       "    </tr>\n",
       "  </thead>\n",
       "  <tbody>\n",
       "    <tr>\n",
       "      <th>0</th>\n",
       "      <td>1</td>\n",
       "      <td>United States</td>\n",
       "      <td>US</td>\n",
       "      <td>40</td>\n",
       "      <td>44</td>\n",
       "      <td>42</td>\n",
       "      <td>126</td>\n",
       "    </tr>\n",
       "    <tr>\n",
       "      <th>1</th>\n",
       "      <td>2</td>\n",
       "      <td>China</td>\n",
       "      <td>CHN</td>\n",
       "      <td>40</td>\n",
       "      <td>27</td>\n",
       "      <td>24</td>\n",
       "      <td>91</td>\n",
       "    </tr>\n",
       "    <tr>\n",
       "      <th>2</th>\n",
       "      <td>7</td>\n",
       "      <td>Great Britain</td>\n",
       "      <td>GBG</td>\n",
       "      <td>14</td>\n",
       "      <td>22</td>\n",
       "      <td>29</td>\n",
       "      <td>65</td>\n",
       "    </tr>\n",
       "    <tr>\n",
       "      <th>3</th>\n",
       "      <td>5</td>\n",
       "      <td>France</td>\n",
       "      <td>FRA</td>\n",
       "      <td>16</td>\n",
       "      <td>26</td>\n",
       "      <td>22</td>\n",
       "      <td>64</td>\n",
       "    </tr>\n",
       "    <tr>\n",
       "      <th>4</th>\n",
       "      <td>4</td>\n",
       "      <td>Australia</td>\n",
       "      <td>AUS</td>\n",
       "      <td>18</td>\n",
       "      <td>19</td>\n",
       "      <td>16</td>\n",
       "      <td>53</td>\n",
       "    </tr>\n",
       "    <tr>\n",
       "      <th>5</th>\n",
       "      <td>3</td>\n",
       "      <td>Japan</td>\n",
       "      <td>JPN</td>\n",
       "      <td>20</td>\n",
       "      <td>12</td>\n",
       "      <td>13</td>\n",
       "      <td>45</td>\n",
       "    </tr>\n",
       "    <tr>\n",
       "      <th>6</th>\n",
       "      <td>9</td>\n",
       "      <td>Italy</td>\n",
       "      <td>ITA</td>\n",
       "      <td>12</td>\n",
       "      <td>13</td>\n",
       "      <td>15</td>\n",
       "      <td>40</td>\n",
       "    </tr>\n",
       "    <tr>\n",
       "      <th>7</th>\n",
       "      <td>6</td>\n",
       "      <td>Netherlands</td>\n",
       "      <td>NED</td>\n",
       "      <td>15</td>\n",
       "      <td>7</td>\n",
       "      <td>12</td>\n",
       "      <td>34</td>\n",
       "    </tr>\n",
       "    <tr>\n",
       "      <th>8</th>\n",
       "      <td>10</td>\n",
       "      <td>Germany</td>\n",
       "      <td>GER</td>\n",
       "      <td>12</td>\n",
       "      <td>13</td>\n",
       "      <td>8</td>\n",
       "      <td>33</td>\n",
       "    </tr>\n",
       "    <tr>\n",
       "      <th>9</th>\n",
       "      <td>8</td>\n",
       "      <td>South Korea</td>\n",
       "      <td>KOR</td>\n",
       "      <td>13</td>\n",
       "      <td>9</td>\n",
       "      <td>10</td>\n",
       "      <td>32</td>\n",
       "    </tr>\n",
       "  </tbody>\n",
       "</table>\n",
       "</div>"
      ],
      "text/plain": [
       "   Rank        Country Country Code  Gold  Silver  Bronze  Total\n",
       "0     1  United States           US    40      44      42    126\n",
       "1     2          China          CHN    40      27      24     91\n",
       "2     7  Great Britain          GBG    14      22      29     65\n",
       "3     5         France          FRA    16      26      22     64\n",
       "4     4      Australia          AUS    18      19      16     53\n",
       "5     3          Japan          JPN    20      12      13     45\n",
       "6     9          Italy          ITA    12      13      15     40\n",
       "7     6    Netherlands          NED    15       7      12     34\n",
       "8    10        Germany          GER    12      13       8     33\n",
       "9     8    South Korea          KOR    13       9      10     32"
      ]
     },
     "execution_count": 20,
     "metadata": {},
     "output_type": "execute_result"
    }
   ],
   "source": [
    "#The 10 countrys with the most medals\n",
    "Top_Medals_10=data.sort_values(by='Total',ascending=False).reset_index(drop=True)[:10]\n",
    "Top_Medals_10"
   ]
  },
  {
   "cell_type": "code",
   "execution_count": 21,
   "id": "b1ddac81",
   "metadata": {
    "execution": {
     "iopub.execute_input": "2024-08-18T15:59:52.494097Z",
     "iopub.status.busy": "2024-08-18T15:59:52.493660Z",
     "iopub.status.idle": "2024-08-18T15:59:53.064115Z",
     "shell.execute_reply": "2024-08-18T15:59:53.062846Z"
    },
    "papermill": {
     "duration": 0.591542,
     "end_time": "2024-08-18T15:59:53.066765",
     "exception": false,
     "start_time": "2024-08-18T15:59:52.475223",
     "status": "completed"
    },
    "tags": []
   },
   "outputs": [
    {
     "data": {
      "image/png": "[encoded data removed]",
      "text/plain": [
       "<Figure size 800x600 with 1 Axes>"
      ]
     },
     "metadata": {},
     "output_type": "display_data"
    }
   ],
   "source": [
    "fig, ax = plt.subplots(figsize=(8, 6))\n",
    "sns.barplot(x='Country', y='Total', data=Top_Medals_10, ax=ax,palette='viridis')\n",
    "ax.set_title('Top 10 Countries by Total Medals')\n",
    "ax.set_xlabel('Country')\n",
    "ax.set_ylabel('Total Medals')\n",
    "ax.tick_params(axis='x', rotation=45)\n",
    "plt.tight_layout()\n",
    "plt.show()"
   ]
  },
  {
   "cell_type": "code",
   "execution_count": 22,
   "id": "be1228a3",
   "metadata": {
    "execution": {
     "iopub.execute_input": "2024-08-18T15:59:53.104724Z",
     "iopub.status.busy": "2024-08-18T15:59:53.104315Z",
     "iopub.status.idle": "2024-08-18T15:59:53.120633Z",
     "shell.execute_reply": "2024-08-18T15:59:53.119446Z"
    },
    "papermill": {
     "duration": 0.038558,
     "end_time": "2024-08-18T15:59:53.123173",
     "exception": false,
     "start_time": "2024-08-18T15:59:53.084615",
     "status": "completed"
    },
    "tags": []
   },
   "outputs": [
    {
     "data": {
      "text/html": [
       "<div>\n",
       "<style scoped>\n",
       "    .dataframe tbody tr th:only-of-type {\n",
       "        vertical-align: middle;\n",
       "    }\n",
       "\n",
       "    .dataframe tbody tr th {\n",
       "        vertical-align: top;\n",
       "    }\n",
       "\n",
       "    .dataframe thead th {\n",
       "        text-align: right;\n",
       "    }\n",
       "</style>\n",
       "<table border=\"1\" class=\"dataframe\">\n",
       "  <thead>\n",
       "    <tr style=\"text-align: right;\">\n",
       "      <th></th>\n",
       "      <th>Rank</th>\n",
       "      <th>Country</th>\n",
       "      <th>Country Code</th>\n",
       "      <th>Gold</th>\n",
       "      <th>Silver</th>\n",
       "      <th>Bronze</th>\n",
       "      <th>Total</th>\n",
       "    </tr>\n",
       "  </thead>\n",
       "  <tbody>\n",
       "    <tr>\n",
       "      <th>0</th>\n",
       "      <td>84</td>\n",
       "      <td>Zambia</td>\n",
       "      <td>ZAM</td>\n",
       "      <td>0</td>\n",
       "      <td>0</td>\n",
       "      <td>1</td>\n",
       "      <td>1</td>\n",
       "    </tr>\n",
       "    <tr>\n",
       "      <th>1</th>\n",
       "      <td>62</td>\n",
       "      <td>Dominica</td>\n",
       "      <td>DMA</td>\n",
       "      <td>1</td>\n",
       "      <td>0</td>\n",
       "      <td>0</td>\n",
       "      <td>1</td>\n",
       "    </tr>\n",
       "    <tr>\n",
       "      <th>2</th>\n",
       "      <td>62</td>\n",
       "      <td>Pakistan</td>\n",
       "      <td>PKN</td>\n",
       "      <td>1</td>\n",
       "      <td>0</td>\n",
       "      <td>0</td>\n",
       "      <td>1</td>\n",
       "    </tr>\n",
       "    <tr>\n",
       "      <th>3</th>\n",
       "      <td>84</td>\n",
       "      <td>Slovakia</td>\n",
       "      <td>SVK</td>\n",
       "      <td>0</td>\n",
       "      <td>0</td>\n",
       "      <td>1</td>\n",
       "      <td>1</td>\n",
       "    </tr>\n",
       "    <tr>\n",
       "      <th>4</th>\n",
       "      <td>74</td>\n",
       "      <td>Cyprus</td>\n",
       "      <td>CYP</td>\n",
       "      <td>0</td>\n",
       "      <td>1</td>\n",
       "      <td>0</td>\n",
       "      <td>1</td>\n",
       "    </tr>\n",
       "    <tr>\n",
       "      <th>5</th>\n",
       "      <td>74</td>\n",
       "      <td>Jordan</td>\n",
       "      <td>JOR</td>\n",
       "      <td>0</td>\n",
       "      <td>1</td>\n",
       "      <td>0</td>\n",
       "      <td>1</td>\n",
       "    </tr>\n",
       "    <tr>\n",
       "      <th>6</th>\n",
       "      <td>74</td>\n",
       "      <td>Mongolia</td>\n",
       "      <td>MGL</td>\n",
       "      <td>0</td>\n",
       "      <td>1</td>\n",
       "      <td>0</td>\n",
       "      <td>1</td>\n",
       "    </tr>\n",
       "    <tr>\n",
       "      <th>7</th>\n",
       "      <td>74</td>\n",
       "      <td>Panama</td>\n",
       "      <td>PAN</td>\n",
       "      <td>0</td>\n",
       "      <td>1</td>\n",
       "      <td>0</td>\n",
       "      <td>1</td>\n",
       "    </tr>\n",
       "    <tr>\n",
       "      <th>8</th>\n",
       "      <td>74</td>\n",
       "      <td>Fiji</td>\n",
       "      <td>FIJ</td>\n",
       "      <td>0</td>\n",
       "      <td>1</td>\n",
       "      <td>0</td>\n",
       "      <td>1</td>\n",
       "    </tr>\n",
       "    <tr>\n",
       "      <th>9</th>\n",
       "      <td>84</td>\n",
       "      <td>Singapore</td>\n",
       "      <td>SIN</td>\n",
       "      <td>0</td>\n",
       "      <td>0</td>\n",
       "      <td>1</td>\n",
       "      <td>1</td>\n",
       "    </tr>\n",
       "  </tbody>\n",
       "</table>\n",
       "</div>"
      ],
      "text/plain": [
       "   Rank    Country Country Code  Gold  Silver  Bronze  Total\n",
       "0    84     Zambia          ZAM     0       0       1      1\n",
       "1    62   Dominica          DMA     1       0       0      1\n",
       "2    62   Pakistan          PKN     1       0       0      1\n",
       "3    84   Slovakia          SVK     0       0       1      1\n",
       "4    74     Cyprus          CYP     0       1       0      1\n",
       "5    74     Jordan          JOR     0       1       0      1\n",
       "6    74   Mongolia          MGL     0       1       0      1\n",
       "7    74     Panama          PAN     0       1       0      1\n",
       "8    74       Fiji          FIJ     0       1       0      1\n",
       "9    84  Singapore          SIN     0       0       1      1"
      ]
     },
     "execution_count": 22,
     "metadata": {},
     "output_type": "execute_result"
    }
   ],
   "source": [
    "#The 10 countrys with the Least medals\n",
    "Least_Medals_10=data.sort_values(by='Total',ascending=True).reset_index(drop=True)[:10]\n",
    "Least_Medals_10"
   ]
  },
  {
   "cell_type": "code",
   "execution_count": 23,
   "id": "202a07ec",
   "metadata": {
    "execution": {
     "iopub.execute_input": "2024-08-18T15:59:53.162081Z",
     "iopub.status.busy": "2024-08-18T15:59:53.161641Z",
     "iopub.status.idle": "2024-08-18T16:00:02.224674Z",
     "shell.execute_reply": "2024-08-18T16:00:02.223398Z"
    },
    "papermill": {
     "duration": 9.085844,
     "end_time": "2024-08-18T16:00:02.227488",
     "exception": false,
     "start_time": "2024-08-18T15:59:53.141644",
     "status": "completed"
    },
    "tags": []
   },
   "outputs": [
    {
     "name": "stderr",
     "output_type": "stream",
     "text": [
      "/opt/conda/lib/python3.10/site-packages/seaborn/_oldcore.py:1119: FutureWarning: use_inf_as_na option is deprecated and will be removed in a future version. Convert inf values to NaN before operating instead.\n",
      "  with pd.option_context('mode.use_inf_as_na', True):\n",
      "/opt/conda/lib/python3.10/site-packages/seaborn/_oldcore.py:1119: FutureWarning: use_inf_as_na option is deprecated and will be removed in a future version. Convert inf values to NaN before operating instead.\n",
      "  with pd.option_context('mode.use_inf_as_na', True):\n",
      "/opt/conda/lib/python3.10/site-packages/seaborn/_oldcore.py:1119: FutureWarning: use_inf_as_na option is deprecated and will be removed in a future version. Convert inf values to NaN before operating instead.\n",
      "  with pd.option_context('mode.use_inf_as_na', True):\n",
      "/opt/conda/lib/python3.10/site-packages/seaborn/_oldcore.py:1119: FutureWarning: use_inf_as_na option is deprecated and will be removed in a future version. Convert inf values to NaN before operating instead.\n",
      "  with pd.option_context('mode.use_inf_as_na', True):\n",
      "/opt/conda/lib/python3.10/site-packages/seaborn/_oldcore.py:1119: FutureWarning: use_inf_as_na option is deprecated and will be removed in a future version. Convert inf values to NaN before operating instead.\n",
      "  with pd.option_context('mode.use_inf_as_na', True):\n"
     ]
    },
    {
     "data": {
      "text/plain": [
       "<seaborn.axisgrid.PairGrid at 0x7ed4ad753a00>"
      ]
     },
     "execution_count": 23,
     "metadata": {},
     "output_type": "execute_result"
    },
    {
     "data": {
      "image/png": "[encoded data removed]",
      "text/plain": [
       "<Figure size 1250x1250 with 30 Axes>"
      ]
     },
     "metadata": {},
     "output_type": "display_data"
    }
   ],
   "source": [
    "sns.pairplot(data)"
   ]
  },
  {
   "cell_type": "code",
   "execution_count": null,
   "id": "19c073a3",
   "metadata": {
    "papermill": {
     "duration": 0.020778,
     "end_time": "2024-08-18T16:00:02.269258",
     "exception": false,
     "start_time": "2024-08-18T16:00:02.248480",
     "status": "completed"
    },
    "tags": []
   },
   "outputs": [],
   "source": []
  }
 ],
 "metadata": {
  "kaggle": {
   "accelerator": "none",
   "dataSources": [
    {
     "datasetId": 5542850,
     "sourceId": 9172132,
     "sourceType": "datasetVersion"
    }
   ],
   "dockerImageVersionId": 30746,
   "isGpuEnabled": false,
   "isInternetEnabled": true,
   "language": "python",
   "sourceType": "notebook"
  },
  "kernelspec": {
   "display_name": "Python 3",
   "language": "python",
   "name": "python3"
  },
  "language_info": {
   "codemirror_mode": {
    "name": "ipython",
    "version": 3
   },
   "file_extension": ".py",
   "mimetype": "text/x-python",
   "name": "python",
   "nbconvert_exporter": "python",
   "pygments_lexer": "ipython3",
   "version": "3.10.13"
  },
  "papermill": {
   "default_parameters": {},
   "duration": 18.71482,
   "end_time": "2024-08-18T16:00:03.013380",
   "environment_variables": {},
   "exception": null,
   "input_path": "__notebook__.ipynb",
   "output_path": "__notebook__.ipynb",
   "parameters": {},
   "start_time": "2024-08-18T15:59:44.298560",
   "version": "2.5.0"
  }
 },
 "nbformat": 4,
 "nbformat_minor": 5
}
